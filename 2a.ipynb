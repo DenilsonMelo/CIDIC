{
 "cells": [
  {
   "cell_type": "markdown",
   "metadata": {},
   "source": [
    "# Somatório, Produtório e Fatorial"
   ]
  },
  {
   "cell_type": "code",
   "execution_count": 7,
   "metadata": {},
   "outputs": [],
   "source": [
    "#Importando bibliotecas\n",
    "from random import randint\n",
    "import numpy\n",
    "import math"
   ]
  },
  {
   "cell_type": "code",
   "execution_count": 8,
   "metadata": {},
   "outputs": [],
   "source": [
    "#Função que calcula o somatório\n",
    "def somatorio(lista):\n",
    "    for c in range(10):\n",
    "        lista.append(randint(1, 50))\n",
    "    print(lista)\n",
    "    soma = sum(lista)\n",
    "    print(f'O somatório é {soma}')"
   ]
  },
  {
   "cell_type": "code",
   "execution_count": 9,
   "metadata": {},
   "outputs": [],
   "source": [
    "#Função que calcula o produtório\n",
    "def produtorio(lista):\n",
    "    produto = 0\n",
    "    for c in range(3):\n",
    "        lista.append(randint(1, 5))\n",
    "        produto = numpy.prod(lista)\n",
    "    print(lista)\n",
    "    print(f'O produtório é {produto}')"
   ]
  },
  {
   "cell_type": "code",
   "execution_count": 10,
   "metadata": {},
   "outputs": [],
   "source": [
    "#Função que calcula o fatorial de um numero aleatório entre 1 e 10\n",
    "def fatorial():\n",
    "    numero = randint(1, 10)\n",
    "    fatorial = math.factorial(numero)\n",
    "\n",
    "    print(f'O fatorial do {numero} é: {fatorial}')"
   ]
  },
  {
   "cell_type": "code",
   "execution_count": 11,
   "metadata": {},
   "outputs": [],
   "source": [
    "#Criando as listas...\n",
    "lista = list()\n",
    "lista1 = list()"
   ]
  },
  {
   "cell_type": "code",
   "execution_count": 12,
   "metadata": {},
   "outputs": [
    {
     "name": "stdout",
     "output_type": "stream",
     "text": [
      "[8, 24, 37, 13, 20, 27, 2, 50, 13, 37]\n",
      "O somatório é 231\n",
      "[5, 3, 2]\n",
      "O produtório é 30\n",
      "O fatorial do 4 é: 24\n"
     ]
    }
   ],
   "source": [
    "#Chamada das funções declaradas\n",
    "somatorio(lista)\n",
    "produtorio(lista1)\n",
    "fatorial()"
   ]
  }
 ],
 "metadata": {
  "kernelspec": {
   "display_name": "Python 3",
   "language": "python",
   "name": "python3"
  },
  "language_info": {
   "codemirror_mode": {
    "name": "ipython",
    "version": 3
   },
   "file_extension": ".py",
   "mimetype": "text/x-python",
   "name": "python",
   "nbconvert_exporter": "python",
   "pygments_lexer": "ipython3",
   "version": "3.7.1"
  }
 },
 "nbformat": 4,
 "nbformat_minor": 2
}
